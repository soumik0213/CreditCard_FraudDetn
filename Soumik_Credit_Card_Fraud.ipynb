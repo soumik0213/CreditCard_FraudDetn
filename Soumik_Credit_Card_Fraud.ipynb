{
  "nbformat": 4,
  "nbformat_minor": 0,
  "metadata": {
    "colab": {
      "name": "Soumik_Credit Card Fraud",
      "provenance": []
    },
    "kernelspec": {
      "name": "python3",
      "display_name": "Python 3"
    },
    "language_info": {
      "name": "python"
    }
  },
  "cells": [
    {
      "cell_type": "code",
      "metadata": {
        "id": "al13X7D5SMQN"
      },
      "source": [
        "import pandas as pd # data processing\n",
        "import numpy as np # working with arrays\n",
        "import matplotlib.pyplot as plt # visualization\n",
        "from termcolor import colored as cl # text customization\n",
        "import itertools # advanced tools\n",
        "import seaborn as sns"
      ],
      "execution_count": 1,
      "outputs": []
    },
    {
      "cell_type": "code",
      "metadata": {
        "id": "B0xqOSrXZzTh"
      },
      "source": [
        "from sklearn.preprocessing import StandardScaler # data normalization\n",
        "from sklearn.model_selection import train_test_split # data split\n",
        "from sklearn.tree import DecisionTreeClassifier # Decision tree algorithm\n",
        "from sklearn.neighbors import KNeighborsClassifier # KNN algorithm\n",
        "from sklearn.linear_model import LogisticRegression # Logistic regression algorithm\n",
        "from sklearn.svm import SVC # SVM algorithm\n",
        "from sklearn.ensemble import RandomForestClassifier # Random forest tree algorithm\n",
        "from xgboost import XGBClassifier # XGBoost algorithm"
      ],
      "execution_count": 2,
      "outputs": []
    },
    {
      "cell_type": "code",
      "metadata": {
        "id": "PzVcYN_RZ2kg"
      },
      "source": [
        "from sklearn.metrics import confusion_matrix # evaluation metric\n",
        "from sklearn.metrics import accuracy_score # evaluation metric\n",
        "from sklearn.metrics import f1_score # evaluation metric"
      ],
      "execution_count": 3,
      "outputs": []
    },
    {
      "cell_type": "code",
      "metadata": {
        "colab": {
          "base_uri": "https://localhost:8080/",
          "height": 223
        },
        "id": "0kqJlIRAZ4Ym",
        "outputId": "8f203df5-3f90-42a4-a7ef-4913b6f9ede4"
      },
      "source": [
        "# IMPORTING DATA\n",
        "\n",
        "df = pd.read_csv('creditcard.csv')\n",
        "df.drop('Time', axis = 1, inplace = True)\n",
        "df = df.fillna(0)\n",
        "df.head()"
      ],
      "execution_count": 4,
      "outputs": [
        {
          "output_type": "execute_result",
          "data": {
            "text/html": [
              "<div>\n",
              "<style scoped>\n",
              "    .dataframe tbody tr th:only-of-type {\n",
              "        vertical-align: middle;\n",
              "    }\n",
              "\n",
              "    .dataframe tbody tr th {\n",
              "        vertical-align: top;\n",
              "    }\n",
              "\n",
              "    .dataframe thead th {\n",
              "        text-align: right;\n",
              "    }\n",
              "</style>\n",
              "<table border=\"1\" class=\"dataframe\">\n",
              "  <thead>\n",
              "    <tr style=\"text-align: right;\">\n",
              "      <th></th>\n",
              "      <th>V1</th>\n",
              "      <th>V2</th>\n",
              "      <th>V3</th>\n",
              "      <th>V4</th>\n",
              "      <th>V5</th>\n",
              "      <th>V6</th>\n",
              "      <th>V7</th>\n",
              "      <th>V8</th>\n",
              "      <th>V9</th>\n",
              "      <th>V10</th>\n",
              "      <th>V11</th>\n",
              "      <th>V12</th>\n",
              "      <th>V13</th>\n",
              "      <th>V14</th>\n",
              "      <th>V15</th>\n",
              "      <th>V16</th>\n",
              "      <th>V17</th>\n",
              "      <th>V18</th>\n",
              "      <th>V19</th>\n",
              "      <th>V20</th>\n",
              "      <th>V21</th>\n",
              "      <th>V22</th>\n",
              "      <th>V23</th>\n",
              "      <th>V24</th>\n",
              "      <th>V25</th>\n",
              "      <th>V26</th>\n",
              "      <th>V27</th>\n",
              "      <th>V28</th>\n",
              "      <th>Amount</th>\n",
              "      <th>Class</th>\n",
              "    </tr>\n",
              "  </thead>\n",
              "  <tbody>\n",
              "    <tr>\n",
              "      <th>0</th>\n",
              "      <td>-1.359807</td>\n",
              "      <td>-0.072781</td>\n",
              "      <td>2.536347</td>\n",
              "      <td>1.378155</td>\n",
              "      <td>-0.338321</td>\n",
              "      <td>0.462388</td>\n",
              "      <td>0.239599</td>\n",
              "      <td>0.098698</td>\n",
              "      <td>0.363787</td>\n",
              "      <td>0.090794</td>\n",
              "      <td>-0.551600</td>\n",
              "      <td>-0.617801</td>\n",
              "      <td>-0.991390</td>\n",
              "      <td>-0.311169</td>\n",
              "      <td>1.468177</td>\n",
              "      <td>-0.470401</td>\n",
              "      <td>0.207971</td>\n",
              "      <td>0.025791</td>\n",
              "      <td>0.403993</td>\n",
              "      <td>0.251412</td>\n",
              "      <td>-0.018307</td>\n",
              "      <td>0.277838</td>\n",
              "      <td>-0.110474</td>\n",
              "      <td>0.066928</td>\n",
              "      <td>0.128539</td>\n",
              "      <td>-0.189115</td>\n",
              "      <td>0.133558</td>\n",
              "      <td>-0.021053</td>\n",
              "      <td>149.62</td>\n",
              "      <td>0</td>\n",
              "    </tr>\n",
              "    <tr>\n",
              "      <th>1</th>\n",
              "      <td>1.191857</td>\n",
              "      <td>0.266151</td>\n",
              "      <td>0.166480</td>\n",
              "      <td>0.448154</td>\n",
              "      <td>0.060018</td>\n",
              "      <td>-0.082361</td>\n",
              "      <td>-0.078803</td>\n",
              "      <td>0.085102</td>\n",
              "      <td>-0.255425</td>\n",
              "      <td>-0.166974</td>\n",
              "      <td>1.612727</td>\n",
              "      <td>1.065235</td>\n",
              "      <td>0.489095</td>\n",
              "      <td>-0.143772</td>\n",
              "      <td>0.635558</td>\n",
              "      <td>0.463917</td>\n",
              "      <td>-0.114805</td>\n",
              "      <td>-0.183361</td>\n",
              "      <td>-0.145783</td>\n",
              "      <td>-0.069083</td>\n",
              "      <td>-0.225775</td>\n",
              "      <td>-0.638672</td>\n",
              "      <td>0.101288</td>\n",
              "      <td>-0.339846</td>\n",
              "      <td>0.167170</td>\n",
              "      <td>0.125895</td>\n",
              "      <td>-0.008983</td>\n",
              "      <td>0.014724</td>\n",
              "      <td>2.69</td>\n",
              "      <td>0</td>\n",
              "    </tr>\n",
              "    <tr>\n",
              "      <th>2</th>\n",
              "      <td>-1.358354</td>\n",
              "      <td>-1.340163</td>\n",
              "      <td>1.773209</td>\n",
              "      <td>0.379780</td>\n",
              "      <td>-0.503198</td>\n",
              "      <td>1.800499</td>\n",
              "      <td>0.791461</td>\n",
              "      <td>0.247676</td>\n",
              "      <td>-1.514654</td>\n",
              "      <td>0.207643</td>\n",
              "      <td>0.624501</td>\n",
              "      <td>0.066084</td>\n",
              "      <td>0.717293</td>\n",
              "      <td>-0.165946</td>\n",
              "      <td>2.345865</td>\n",
              "      <td>-2.890083</td>\n",
              "      <td>1.109969</td>\n",
              "      <td>-0.121359</td>\n",
              "      <td>-2.261857</td>\n",
              "      <td>0.524980</td>\n",
              "      <td>0.247998</td>\n",
              "      <td>0.771679</td>\n",
              "      <td>0.909412</td>\n",
              "      <td>-0.689281</td>\n",
              "      <td>-0.327642</td>\n",
              "      <td>-0.139097</td>\n",
              "      <td>-0.055353</td>\n",
              "      <td>-0.059752</td>\n",
              "      <td>378.66</td>\n",
              "      <td>0</td>\n",
              "    </tr>\n",
              "    <tr>\n",
              "      <th>3</th>\n",
              "      <td>-0.966272</td>\n",
              "      <td>-0.185226</td>\n",
              "      <td>1.792993</td>\n",
              "      <td>-0.863291</td>\n",
              "      <td>-0.010309</td>\n",
              "      <td>1.247203</td>\n",
              "      <td>0.237609</td>\n",
              "      <td>0.377436</td>\n",
              "      <td>-1.387024</td>\n",
              "      <td>-0.054952</td>\n",
              "      <td>-0.226487</td>\n",
              "      <td>0.178228</td>\n",
              "      <td>0.507757</td>\n",
              "      <td>-0.287924</td>\n",
              "      <td>-0.631418</td>\n",
              "      <td>-1.059647</td>\n",
              "      <td>-0.684093</td>\n",
              "      <td>1.965775</td>\n",
              "      <td>-1.232622</td>\n",
              "      <td>-0.208038</td>\n",
              "      <td>-0.108300</td>\n",
              "      <td>0.005274</td>\n",
              "      <td>-0.190321</td>\n",
              "      <td>-1.175575</td>\n",
              "      <td>0.647376</td>\n",
              "      <td>-0.221929</td>\n",
              "      <td>0.062723</td>\n",
              "      <td>0.061458</td>\n",
              "      <td>123.50</td>\n",
              "      <td>0</td>\n",
              "    </tr>\n",
              "    <tr>\n",
              "      <th>4</th>\n",
              "      <td>-1.158233</td>\n",
              "      <td>0.877737</td>\n",
              "      <td>1.548718</td>\n",
              "      <td>0.403034</td>\n",
              "      <td>-0.407193</td>\n",
              "      <td>0.095921</td>\n",
              "      <td>0.592941</td>\n",
              "      <td>-0.270533</td>\n",
              "      <td>0.817739</td>\n",
              "      <td>0.753074</td>\n",
              "      <td>-0.822843</td>\n",
              "      <td>0.538196</td>\n",
              "      <td>1.345852</td>\n",
              "      <td>-1.119670</td>\n",
              "      <td>0.175121</td>\n",
              "      <td>-0.451449</td>\n",
              "      <td>-0.237033</td>\n",
              "      <td>-0.038195</td>\n",
              "      <td>0.803487</td>\n",
              "      <td>0.408542</td>\n",
              "      <td>-0.009431</td>\n",
              "      <td>0.798278</td>\n",
              "      <td>-0.137458</td>\n",
              "      <td>0.141267</td>\n",
              "      <td>-0.206010</td>\n",
              "      <td>0.502292</td>\n",
              "      <td>0.219422</td>\n",
              "      <td>0.215153</td>\n",
              "      <td>69.99</td>\n",
              "      <td>0</td>\n",
              "    </tr>\n",
              "  </tbody>\n",
              "</table>\n",
              "</div>"
            ],
            "text/plain": [
              "         V1        V2        V3        V4  ...       V27       V28  Amount  Class\n",
              "0 -1.359807 -0.072781  2.536347  1.378155  ...  0.133558 -0.021053  149.62      0\n",
              "1  1.191857  0.266151  0.166480  0.448154  ... -0.008983  0.014724    2.69      0\n",
              "2 -1.358354 -1.340163  1.773209  0.379780  ... -0.055353 -0.059752  378.66      0\n",
              "3 -0.966272 -0.185226  1.792993 -0.863291  ...  0.062723  0.061458  123.50      0\n",
              "4 -1.158233  0.877737  1.548718  0.403034  ...  0.219422  0.215153   69.99      0\n",
              "\n",
              "[5 rows x 30 columns]"
            ]
          },
          "metadata": {},
          "execution_count": 4
        }
      ]
    },
    {
      "cell_type": "code",
      "metadata": {
        "colab": {
          "base_uri": "https://localhost:8080/"
        },
        "id": "JTUnc7yaZ6Vu",
        "outputId": "f5d9f3bd-4bfc-40d3-f685-c54cabc0120b"
      },
      "source": [
        "cases = len(df)\n",
        "nonfraud_count = len(df[df.Class == 0])\n",
        "fraud_count = len(df[df.Class == 1])\n",
        "fraud_percentage = round(fraud_count/nonfraud_count*100, 2)\n",
        "\n",
        "print(cl('CASE COUNT', attrs = ['bold']))\n",
        "print(cl('--------------------------------------------', attrs = ['bold']))\n",
        "print(cl('Total number of cases are {}'.format(cases), attrs = ['bold']))\n",
        "print(cl('Number of Non-fraud cases are {}'.format(nonfraud_count), attrs = ['bold']))\n",
        "print(cl('Number of Non-fraud cases are {}'.format(fraud_count), attrs = ['bold']))\n",
        "print(cl('Percentage of fraud cases is {}'.format(fraud_percentage), attrs = ['bold']))\n",
        "print(cl('--------------------------------------------', attrs = ['bold']))"
      ],
      "execution_count": 5,
      "outputs": [
        {
          "output_type": "stream",
          "text": [
            "\u001b[1mCASE COUNT\u001b[0m\n",
            "\u001b[1m--------------------------------------------\u001b[0m\n",
            "\u001b[1mTotal number of cases are 284807\u001b[0m\n",
            "\u001b[1mNumber of Non-fraud cases are 284315\u001b[0m\n",
            "\u001b[1mNumber of Non-fraud cases are 492\u001b[0m\n",
            "\u001b[1mPercentage of fraud cases is 0.17\u001b[0m\n",
            "\u001b[1m--------------------------------------------\u001b[0m\n"
          ],
          "name": "stdout"
        }
      ]
    },
    {
      "cell_type": "code",
      "metadata": {
        "colab": {
          "base_uri": "https://localhost:8080/"
        },
        "id": "jchFvQneZ881",
        "outputId": "48f758d3-3bd9-4f32-dab6-6af22a82fb01"
      },
      "source": [
        "nonfraud_cases = df[df.Class == 0]\n",
        "fraud_cases = df[df.Class == 1]\n",
        "\n",
        "print(cl('CASE AMOUNT STATISTICS', attrs = ['bold']))\n",
        "print(cl('--------------------------------------------', attrs = ['bold']))\n",
        "print(cl('NON-FRAUD CASE AMOUNT STATS', attrs = ['bold']))\n",
        "print(nonfraud_cases.Amount.describe())\n",
        "print(cl('--------------------------------------------', attrs = ['bold']))\n",
        "print(cl('FRAUD CASE AMOUNT STATS', attrs = ['bold']))\n",
        "print(fraud_cases.Amount.describe())\n",
        "print(cl('--------------------------------------------', attrs = ['bold']))"
      ],
      "execution_count": 6,
      "outputs": [
        {
          "output_type": "stream",
          "text": [
            "\u001b[1mCASE AMOUNT STATISTICS\u001b[0m\n",
            "\u001b[1m--------------------------------------------\u001b[0m\n",
            "\u001b[1mNON-FRAUD CASE AMOUNT STATS\u001b[0m\n",
            "count    284315.000000\n",
            "mean         88.291022\n",
            "std         250.105092\n",
            "min           0.000000\n",
            "25%           5.650000\n",
            "50%          22.000000\n",
            "75%          77.050000\n",
            "max       25691.160000\n",
            "Name: Amount, dtype: float64\n",
            "\u001b[1m--------------------------------------------\u001b[0m\n",
            "\u001b[1mFRAUD CASE AMOUNT STATS\u001b[0m\n",
            "count     492.000000\n",
            "mean      122.211321\n",
            "std       256.683288\n",
            "min         0.000000\n",
            "25%         1.000000\n",
            "50%         9.250000\n",
            "75%       105.890000\n",
            "max      2125.870000\n",
            "Name: Amount, dtype: float64\n",
            "\u001b[1m--------------------------------------------\u001b[0m\n"
          ],
          "name": "stdout"
        }
      ]
    },
    {
      "cell_type": "code",
      "metadata": {
        "colab": {
          "base_uri": "https://localhost:8080/"
        },
        "id": "4iT398OMZ_Uh",
        "outputId": "4ad9dcd7-d3c8-4c68-f83d-5e31ba55d161"
      },
      "source": [
        "sc = StandardScaler()\n",
        "amount = df['Amount'].values\n",
        "\n",
        "df['Amount'] = sc.fit_transform(amount.reshape(-1, 1))\n",
        "\n",
        "print(cl(df['Amount'].head(10), attrs = ['bold']))"
      ],
      "execution_count": 7,
      "outputs": [
        {
          "output_type": "stream",
          "text": [
            "\u001b[1m0    0.244964\n",
            "1   -0.342475\n",
            "2    1.160686\n",
            "3    0.140534\n",
            "4   -0.073403\n",
            "5   -0.338556\n",
            "6   -0.333279\n",
            "7   -0.190107\n",
            "8    0.019392\n",
            "9   -0.338516\n",
            "Name: Amount, dtype: float64\u001b[0m\n"
          ],
          "name": "stdout"
        }
      ]
    },
    {
      "cell_type": "code",
      "metadata": {
        "colab": {
          "base_uri": "https://localhost:8080/"
        },
        "id": "yaftBIVJaBmV",
        "outputId": "a3b3e72e-d853-47ef-ac45-13b4b6fe9e2d"
      },
      "source": [
        "X = df.drop('Class', axis = 1).values\n",
        "y = df['Class'].values\n",
        "\n",
        "X_train, X_test, y_train, y_test = train_test_split(X, y, test_size = 0.2, random_state = 42)\n",
        "\n",
        "print(cl('X_train samples : ', attrs = ['bold']), X_train[:1])\n",
        "print(cl('X_test samples : ', attrs = ['bold']), X_test[0:1])\n",
        "print(cl('y_train samples : ', attrs = ['bold']), y_train[0:20])\n",
        "print(cl('y_test samples : ', attrs = ['bold']), y_test[0:20])"
      ],
      "execution_count": 8,
      "outputs": [
        {
          "output_type": "stream",
          "text": [
            "\u001b[1mX_train samples : \u001b[0m [[ 1.95504092 -0.38078271 -0.31501285  0.33015545 -0.50937425 -0.08619745\n",
            "  -0.62797791  0.03599372  1.0545603  -0.03044134  0.62499577  1.69149569\n",
            "   1.2557904  -0.25326646 -0.33169498  0.30725235 -0.93084369  0.65166579\n",
            "   0.16798664 -0.12538999  0.23819742  0.96830494  0.05320802 -0.27860151\n",
            "  -0.0449993  -0.21678034  0.04516825 -0.04714479 -0.31328851]]\n",
            "\u001b[1mX_test samples : \u001b[0m [[-16.52650657   8.5849718  -18.64985319   9.50559352 -13.79381853\n",
            "   -2.8324043  -16.7016943    7.5173439   -8.50705864 -14.11018444\n",
            "    5.29923635 -10.83400648   1.67112025  -9.37385858   0.36080564\n",
            "   -9.89924654 -19.23629237  -8.39855199   3.10173537  -1.51492344\n",
            "    1.19073869  -1.12767001  -2.35857877   0.67346133  -1.41369967\n",
            "   -0.46276236  -2.01857525  -1.04280417   1.10283362]]\n",
            "\u001b[1my_train samples : \u001b[0m [0 0 0 0 0 0 0 0 0 0 0 0 0 0 0 0 0 0 0 0]\n",
            "\u001b[1my_test samples : \u001b[0m [1 0 0 0 0 0 0 0 0 0 0 0 0 0 0 0 0 0 0 0]\n"
          ],
          "name": "stdout"
        }
      ]
    },
    {
      "cell_type": "code",
      "metadata": {
        "id": "KLr9hITRaD4l"
      },
      "source": [
        "# 1. Decision Tree\n",
        "\n",
        "tree_model = DecisionTreeClassifier(max_depth = 4, criterion = 'entropy')\n",
        "tree_model.fit(X_train, y_train)\n",
        "tree_yhat = tree_model.predict(X_test)"
      ],
      "execution_count": 9,
      "outputs": []
    },
    {
      "cell_type": "code",
      "metadata": {
        "id": "8qAY4kmpaGV6"
      },
      "source": [
        "# 2. K-Nearest Neighbors\n",
        "\n",
        "n = 5\n",
        "\n",
        "knn = KNeighborsClassifier(n_neighbors = n)\n",
        "knn.fit(X_train, y_train)\n",
        "knn_yhat = knn.predict(X_test)"
      ],
      "execution_count": 10,
      "outputs": []
    },
    {
      "cell_type": "code",
      "metadata": {
        "id": "D75nk8WZaJO4"
      },
      "source": [
        "# 3. Logistic Regression\n",
        "\n",
        "lr = LogisticRegression()\n",
        "lr.fit(X_train, y_train)\n",
        "lr_yhat = lr.predict(X_test)"
      ],
      "execution_count": 11,
      "outputs": []
    },
    {
      "cell_type": "code",
      "metadata": {
        "id": "FSnh-PG8bCph"
      },
      "source": [
        "# 4. SVM \n",
        "\n",
        "svm = SVC()\n",
        "svm.fit(X_train, y_train)\n",
        "svm_yhat = svm.predict(X_test)"
      ],
      "execution_count": 12,
      "outputs": []
    },
    {
      "cell_type": "code",
      "metadata": {
        "id": "yqJYsxs-bHVb"
      },
      "source": [
        "# 5. Random Forest Tree\n",
        "\n",
        "rf = RandomForestClassifier(max_depth = 4)\n",
        "rf.fit(X_train, y_train)\n",
        "rf_yhat = rf.predict(X_test)"
      ],
      "execution_count": 13,
      "outputs": []
    },
    {
      "cell_type": "code",
      "metadata": {
        "id": "XZAxvoyxcEYj"
      },
      "source": [
        "# 6. XGBoost\n",
        "\n",
        "xgb = XGBClassifier(max_depth = 4)\n",
        "xgb.fit(X_train, y_train)\n",
        "xgb_yhat = xgb.predict(X_test)"
      ],
      "execution_count": 15,
      "outputs": []
    },
    {
      "cell_type": "code",
      "metadata": {
        "colab": {
          "base_uri": "https://localhost:8080/"
        },
        "id": "URRGLYiNcHSI",
        "outputId": "7fc4e0a3-7b11-441b-9b79-32178eb0ac62"
      },
      "source": [
        "# 1. Accuracy score\n",
        "\n",
        "print(cl('ACCURACY SCORE', attrs = ['bold']))\n",
        "print(cl('------------------------------------------------------------------------', attrs = ['bold']))\n",
        "print(cl('Accuracy score of the Decision Tree model is {}'.format(accuracy_score(y_test, tree_yhat)), attrs = ['bold']))\n",
        "print(cl('------------------------------------------------------------------------', attrs = ['bold']))\n",
        "print(cl('Accuracy score of the KNN model is {}'.format(accuracy_score(y_test, knn_yhat)), attrs = ['bold'], color = 'green'))\n",
        "print(cl('------------------------------------------------------------------------', attrs = ['bold']))\n",
        "print(cl('Accuracy score of the Logistic Regression model is {}'.format(accuracy_score(y_test, lr_yhat)), attrs = ['bold'], color = 'red'))\n",
        "print(cl('------------------------------------------------------------------------', attrs = ['bold']))\n",
        "print(cl('Accuracy score of the SVM model is {}'.format(accuracy_score(y_test, svm_yhat)), attrs = ['bold']))\n",
        "print(cl('------------------------------------------------------------------------', attrs = ['bold']))\n",
        "print(cl('Accuracy score of the Random Forest Tree model is {}'.format(accuracy_score(y_test, rf_yhat)), attrs = ['bold']))\n",
        "print(cl('------------------------------------------------------------------------', attrs = ['bold']))\n",
        "print(cl('Accuracy score of the XGBoost model is {}'.format(accuracy_score(y_test, xgb_yhat)), attrs = ['bold']))\n",
        "print(cl('------------------------------------------------------------------------', attrs = ['bold']))"
      ],
      "execution_count": 16,
      "outputs": [
        {
          "output_type": "stream",
          "text": [
            "\u001b[1mACCURACY SCORE\u001b[0m\n",
            "\u001b[1m------------------------------------------------------------------------\u001b[0m\n",
            "\u001b[1mAccuracy score of the Decision Tree model is 0.9994557775359011\u001b[0m\n",
            "\u001b[1m------------------------------------------------------------------------\u001b[0m\n",
            "\u001b[1m\u001b[32mAccuracy score of the KNN model is 0.9995259997893332\u001b[0m\n",
            "\u001b[1m------------------------------------------------------------------------\u001b[0m\n",
            "\u001b[1m\u001b[31mAccuracy score of the Logistic Regression model is 0.9991222218320986\u001b[0m\n",
            "\u001b[1m------------------------------------------------------------------------\u001b[0m\n",
            "\u001b[1mAccuracy score of the SVM model is 0.9993153330290369\u001b[0m\n",
            "\u001b[1m------------------------------------------------------------------------\u001b[0m\n",
            "\u001b[1mAccuracy score of the Random Forest Tree model is 0.9992977774656788\u001b[0m\n",
            "\u001b[1m------------------------------------------------------------------------\u001b[0m\n",
            "\u001b[1mAccuracy score of the XGBoost model is 0.9996839998595555\u001b[0m\n",
            "\u001b[1m------------------------------------------------------------------------\u001b[0m\n"
          ],
          "name": "stdout"
        }
      ]
    },
    {
      "cell_type": "code",
      "metadata": {
        "colab": {
          "base_uri": "https://localhost:8080/"
        },
        "id": "kEKXFE55cc3-",
        "outputId": "571eec58-9180-4f74-c344-47cd4b2718f1"
      },
      "source": [
        "# 2. F1 score\n",
        "\n",
        "print(cl('F1 SCORE', attrs = ['bold']))\n",
        "print(cl('------------------------------------------------------------------------', attrs = ['bold']))\n",
        "print(cl('F1 score of the Decision Tree model is {}'.format(f1_score(y_test, tree_yhat)), attrs = ['bold']))\n",
        "print(cl('------------------------------------------------------------------------', attrs = ['bold']))\n",
        "print(cl('F1 score of the KNN model is {}'.format(f1_score(y_test, knn_yhat)), attrs = ['bold'], color = 'green'))\n",
        "print(cl('------------------------------------------------------------------------', attrs = ['bold']))\n",
        "print(cl('F1 score of the Logistic Regression model is {}'.format(f1_score(y_test, lr_yhat)), attrs = ['bold'], color = 'red'))\n",
        "print(cl('------------------------------------------------------------------------', attrs = ['bold']))\n",
        "print(cl('F1 score of the SVM model is {}'.format(f1_score(y_test, svm_yhat)), attrs = ['bold']))\n",
        "print(cl('------------------------------------------------------------------------', attrs = ['bold']))\n",
        "print(cl('F1 score of the Random Forest Tree model is {}'.format(f1_score(y_test, rf_yhat)), attrs = ['bold']))\n",
        "print(cl('------------------------------------------------------------------------', attrs = ['bold']))\n",
        "print(cl('F1 score of the XGBoost model is {}'.format(f1_score(y_test, xgb_yhat)), attrs = ['bold']))\n",
        "print(cl('------------------------------------------------------------------------', attrs = ['bold']))\n"
      ],
      "execution_count": 17,
      "outputs": [
        {
          "output_type": "stream",
          "text": [
            "\u001b[1mF1 SCORE\u001b[0m\n",
            "\u001b[1m------------------------------------------------------------------------\u001b[0m\n",
            "\u001b[1mF1 score of the Decision Tree model is 0.8359788359788359\u001b[0m\n",
            "\u001b[1m------------------------------------------------------------------------\u001b[0m\n",
            "\u001b[1m\u001b[32mF1 score of the KNN model is 0.8491620111731844\u001b[0m\n",
            "\u001b[1m------------------------------------------------------------------------\u001b[0m\n",
            "\u001b[1m\u001b[31mF1 score of the Logistic Regression model is 0.6951219512195121\u001b[0m\n",
            "\u001b[1m------------------------------------------------------------------------\u001b[0m\n",
            "\u001b[1mF1 score of the SVM model is 0.7577639751552796\u001b[0m\n",
            "\u001b[1m------------------------------------------------------------------------\u001b[0m\n",
            "\u001b[1mF1 score of the Random Forest Tree model is 0.7590361445783133\u001b[0m\n",
            "\u001b[1m------------------------------------------------------------------------\u001b[0m\n",
            "\u001b[1mF1 score of the XGBoost model is 0.9010989010989012\u001b[0m\n",
            "\u001b[1m------------------------------------------------------------------------\u001b[0m\n"
          ],
          "name": "stdout"
        }
      ]
    },
    {
      "cell_type": "code",
      "metadata": {
        "id": "Ob_qnD_mdGtR"
      },
      "source": [
        "# 3. CONFUSION MATRIX \n",
        "# defining the plot function\n",
        "\n",
        "def plot_confusion_matrix(cm, classes, title, normalize = False, cmap = plt.cm.Blues):\n",
        "    title = 'Confusion Matrix of {}'.format(title)\n",
        "    if normalize:\n",
        "        cm = cm.astype(float) / cm.sum(axis=1)[:, np.newaxis]\n",
        "\n",
        "    plt.imshow(cm, interpolation = 'nearest', cmap = cmap)\n",
        "    plt.title(title)\n",
        "    plt.colorbar()\n",
        "    tick_marks = np.arange(len(classes))\n",
        "    plt.xticks(tick_marks, classes, rotation = 45)\n",
        "    plt.yticks(tick_marks, classes)\n",
        "\n",
        "    fmt = '.2f' if normalize else 'd'\n",
        "    thresh = cm.max() / 2.\n",
        "    for i, j in itertools.product(range(cm.shape[0]), range(cm.shape[1])):\n",
        "        plt.text(j, i, format(cm[i, j], fmt),\n",
        "                 horizontalalignment = 'center',\n",
        "                 color = 'white' if cm[i, j] > thresh else 'black')\n",
        "\n",
        "    plt.tight_layout()\n",
        "    plt.ylabel('True label')\n",
        "    plt.xlabel('Predicted label')"
      ],
      "execution_count": 18,
      "outputs": []
    },
    {
      "cell_type": "code",
      "metadata": {
        "id": "0ABJZPSPdKh8"
      },
      "source": [
        "# Compute confusion matrix for the models\n",
        "\n",
        "tree_matrix = confusion_matrix(y_test, tree_yhat, labels = [0, 1]) # Decision Tree\n",
        "knn_matrix = confusion_matrix(y_test, knn_yhat, labels = [0, 1]) # K-Nearest Neighbors\n",
        "lr_matrix = confusion_matrix(y_test, lr_yhat, labels = [0, 1]) # Logistic Regression\n",
        "svm_matrix = confusion_matrix(y_test, svm_yhat, labels = [0, 1]) # Support Vector Machine\n",
        "rf_matrix = confusion_matrix(y_test, rf_yhat, labels = [0, 1]) # Random Forest Tree\n",
        "xgb_matrix = confusion_matrix(y_test, xgb_yhat, labels = [0, 1]) # XGBoost"
      ],
      "execution_count": 19,
      "outputs": []
    },
    {
      "cell_type": "code",
      "metadata": {
        "id": "OuXKzU0DdMrN"
      },
      "source": [
        "plt.rcParams['figure.figsize'] = (6, 6)"
      ],
      "execution_count": 20,
      "outputs": []
    },
    {
      "cell_type": "code",
      "metadata": {
        "colab": {
          "base_uri": "https://localhost:8080/",
          "height": 428
        },
        "id": "AP9DR1iQdO5e",
        "outputId": "b0316312-34ee-4bef-b96b-d7897b51fd88"
      },
      "source": [
        "# 1. Decision tree\n",
        "\n",
        "tree_cm_plot = plot_confusion_matrix(tree_matrix, \n",
        "                                classes = ['Non-Default(0)','Default(1)'], \n",
        "                                normalize = False, title = 'Decision Tree')\n",
        "plt.savefig('tree_cm_plot.png')\n",
        "plt.show()"
      ],
      "execution_count": 21,
      "outputs": [
        {
          "output_type": "display_data",
          "data": {
            "image/png": "[encoded data removed]",
            "text/plain": [
              "<Figure size 432x432 with 2 Axes>"
            ]
          },
          "metadata": {
            "needs_background": "light"
          }
        }
      ]
    },
    {
      "cell_type": "code",
      "metadata": {
        "colab": {
          "base_uri": "https://localhost:8080/",
          "height": 428
        },
        "id": "8VbdMIjpdQcp",
        "outputId": "e1dd36f4-cbb5-4080-efcb-df6b34b9094d"
      },
      "source": [
        "# 2. K-Nearest Neighbors\n",
        "\n",
        "knn_cm_plot = plot_confusion_matrix(knn_matrix, \n",
        "                                classes = ['Non-Default(0)','Default(1)'], \n",
        "                                normalize = False, title = 'KNN')\n",
        "plt.savefig('knn_cm_plot.png')\n",
        "plt.show()"
      ],
      "execution_count": 22,
      "outputs": [
        {
          "output_type": "display_data",
          "data": {
            "image/png": "[encoded data removed]",
            "text/plain": [
              "<Figure size 432x432 with 2 Axes>"
            ]
          },
          "metadata": {
            "needs_background": "light"
          }
        }
      ]
    },
    {
      "cell_type": "code",
      "metadata": {
        "colab": {
          "base_uri": "https://localhost:8080/",
          "height": 428
        },
        "id": "mf4k3hUddScg",
        "outputId": "7a8abcc6-64db-4a8d-80e7-b2c56a59d11c"
      },
      "source": [
        "# 3. Logistic regression\n",
        "\n",
        "lr_cm_plot = plot_confusion_matrix(lr_matrix, \n",
        "                                classes = ['Non-Default(0)','Default(1)'], \n",
        "                                normalize = False, title = 'Logistic Regression')\n",
        "plt.savefig('lr_cm_plot.png')\n",
        "plt.show()"
      ],
      "execution_count": 23,
      "outputs": [
        {
          "output_type": "display_data",
          "data": {
            "image/png": "[encoded data removed]",
            "text/plain": [
              "<Figure size 432x432 with 2 Axes>"
            ]
          },
          "metadata": {
            "needs_background": "light"
          }
        }
      ]
    },
    {
      "cell_type": "code",
      "metadata": {
        "colab": {
          "base_uri": "https://localhost:8080/",
          "height": 428
        },
        "id": "xny8JdgZdUUl",
        "outputId": "bdc5caf1-a276-41eb-81fb-a24aff2d31fb"
      },
      "source": [
        "# 4. Support Vector Machine\n",
        "\n",
        "svm_cm_plot = plot_confusion_matrix(svm_matrix, \n",
        "                                classes = ['Non-Default(0)','Default(1)'], \n",
        "                                normalize = False, title = 'SVM')\n",
        "plt.savefig('svm_cm_plot.png')\n",
        "plt.show()\n"
      ],
      "execution_count": 24,
      "outputs": [
        {
          "output_type": "display_data",
          "data": {
            "image/png": "[encoded data removed]",
            "text/plain": [
              "<Figure size 432x432 with 2 Axes>"
            ]
          },
          "metadata": {
            "needs_background": "light"
          }
        }
      ]
    },
    {
      "cell_type": "code",
      "metadata": {
        "colab": {
          "base_uri": "https://localhost:8080/",
          "height": 428
        },
        "id": "7yrjxse9dXCu",
        "outputId": "a7dbeddd-4a9f-49f3-ba2e-09d11e6bb8b9"
      },
      "source": [
        "# 5. Random forest tree\n",
        "\n",
        "rf_cm_plot = plot_confusion_matrix(rf_matrix, \n",
        "                                classes = ['Non-Default(0)','Default(1)'], \n",
        "                                normalize = False, title = 'Random Forest Tree')\n",
        "plt.savefig('rf_cm_plot.png')\n",
        "plt.show()"
      ],
      "execution_count": 25,
      "outputs": [
        {
          "output_type": "display_data",
          "data": {
            "image/png": "[encoded data removed]",
            "text/plain": [
              "<Figure size 432x432 with 2 Axes>"
            ]
          },
          "metadata": {
            "needs_background": "light"
          }
        }
      ]
    },
    {
      "cell_type": "code",
      "metadata": {
        "colab": {
          "base_uri": "https://localhost:8080/",
          "height": 428
        },
        "id": "0UA2laU8dZFX",
        "outputId": "cae7bca8-6f2d-426a-8b64-ffb9d7d2bacb"
      },
      "source": [
        "# 6. XGBoost\n",
        "\n",
        "xgb_cm_plot = plot_confusion_matrix(xgb_matrix, \n",
        "                                classes = ['Non-Default(0)','Default(1)'], \n",
        "                                normalize = False, title = 'XGBoost')\n",
        "plt.savefig('xgb_cm_plot.png')\n",
        "plt.show()"
      ],
      "execution_count": 26,
      "outputs": [
        {
          "output_type": "display_data",
          "data": {
            "image/png": "[encoded data removed]",
            "text/plain": [
              "<Figure size 432x432 with 2 Axes>"
            ]
          },
          "metadata": {
            "needs_background": "light"
          }
        }
      ]
    },
    {
      "cell_type": "code",
      "metadata": {
        "colab": {
          "base_uri": "https://localhost:8080/",
          "height": 570
        },
        "id": "yLHhynXoda-H",
        "outputId": "60dba030-257e-4f9c-ee7a-be6dbad4f99a"
      },
      "source": [
        "# Correlation Matrix\n",
        "\n",
        "corrmat = df.corr()\n",
        "fig = plt.figure(figsize = (12, 9))\n",
        "sns.heatmap(corrmat, vmax = .8, square = True)\n",
        "plt.show()"
      ],
      "execution_count": 27,
      "outputs": [
        {
          "output_type": "display_data",
          "data": {
            "image/png": "[encoded data removed]",
            "text/plain": [
              "<Figure size 864x648 with 2 Axes>"
            ]
          },
          "metadata": {
            "needs_background": "light"
          }
        }
      ]
    },
    {
      "cell_type": "code",
      "metadata": {
        "colab": {
          "base_uri": "https://localhost:8080/"
        },
        "id": "JgzAS70FdcpM",
        "outputId": "d7c2d450-3d3c-4caa-f971-287e4b99a05c"
      },
      "source": [
        "print(cl('END OF THE PROJECT', attrs = ['bold']))"
      ],
      "execution_count": 28,
      "outputs": [
        {
          "output_type": "stream",
          "text": [
            "\u001b[1mEND OF THE PROJECT\u001b[0m\n"
          ],
          "name": "stdout"
        }
      ]
    },
    {
      "cell_type": "code",
      "metadata": {
        "id": "JeWZL6cYdeqQ"
      },
      "source": [
        ""
      ],
      "execution_count": null,
      "outputs": []
    }
  ]
}